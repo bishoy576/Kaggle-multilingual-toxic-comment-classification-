{
  "metadata": {
    "kernelspec": {
      "display_name": "Python 3",
      "name": "python3"
    },
    "language_info": {
      "name": "python",
      "version": "3.7.12",
      "mimetype": "text/x-python",
      "codemirror_mode": {
        "name": "ipython",
        "version": 3
      },
      "pygments_lexer": "ipython3",
      "nbconvert_exporter": "python",
      "file_extension": ".py"
    },
    "kaggle": {
      "accelerator": "tpu1vmV38",
      "dataSources": [
        {
          "sourceId": 19018,
          "databundleVersionId": 2703900,
          "sourceType": "competition"
        },
        {
          "sourceId": 1062669,
          "sourceType": "datasetVersion",
          "datasetId": 588377
        }
      ],
      "dockerImageVersionId": 30299,
      "isInternetEnabled": true,
      "language": "python",
      "sourceType": "notebook",
      "isGpuEnabled": false
    },
    "colab": {
      "provenance": [],
      "gpuType": "V28"
    },
    "accelerator": "TPU"
  },
  "nbformat_minor": 0,
  "nbformat": 4,
  "cells": [
    {
      "cell_type": "code",
      "source": [
        "import numpy as np # linear algebra\n",
        "import pandas as pd # data processing, CSV file I/O (e.g. pd.read_csv)\n",
        "from tqdm import tqdm\n",
        "\n",
        "import tensorflow as tf\n",
        "\n",
        "\n",
        "from tensorflow import keras\n",
        "\n",
        "from tensorflow.keras.preprocessing import sequence,text\n",
        "from tensorflow.keras.models import Sequential\n",
        "from tensorflow.keras.layers import Dense, Activation, Dropout\n",
        "from tensorflow.keras.layers import Embedding, SimpleRNN\n",
        "\n",
        "\n",
        "D = '/kaggle/input/jigsaw-multilingual-toxic-comment-classification/'\n",
        "D_TRANS = '/kaggle/input/jigsaw-train-multilingual-coments-google-api/'\n",
        "\n",
        "import os\n",
        "\n",
        "\n",
        "# You can write up to 20GB to the current directory (/kaggle/working/) that gets preserved as output when you create a version using \"Save & Run All\"\n",
        "# You can also write temporary files to /kaggle/temp/, but they won't be saved outside of the current session"
      ],
      "metadata": {
        "_uuid": "8f2839f25d086af736a60e9eeb907d3b93b6e0e5",
        "_cell_guid": "b1076dfc-b9ad-4769-8c92-a6c4dae69d19",
        "trusted": true,
        "id": "CzZxQuk0S1Ib"
      },
      "execution_count": null,
      "outputs": []
    },
    {
      "cell_type": "code",
      "source": [
        "# Detect hardware, return appropriate distribution strategy\n",
        "try:\n",
        "    # TPU detection. No parameters necessary if TPU_NAME environment variable is\n",
        "    # set: this is always the case on Kaggle.\n",
        "    tpu = tf.distribute.cluster_resolver.TPUClusterResolver()\n",
        "    print('Running on TPU ', tpu.master())\n",
        "except ValueError:\n",
        "    tpu = None\n",
        "\n",
        "if tpu:\n",
        "    tf.config.experimental_connect_to_cluster(tpu)\n",
        "    tf.tpu.experimental.initialize_tpu_system(tpu)\n",
        "    strategy = tf.distribute.experimental.TPUStrategy(tpu)\n",
        "else:\n",
        "    # Default distribution strategy in Tensorflow. Works on CPU and single GPU.\n",
        "    strategy = tf.distribute.get_strategy()\n",
        "\n",
        "print(\"REPLICAS: \", strategy.num_replicas_in_sync)"
      ],
      "metadata": {
        "trusted": true,
        "id": "PqekOG2zS1Id",
        "collapsed": true
      },
      "execution_count": null,
      "outputs": []
    },
    {
      "cell_type": "code",
      "source": [
        "def load_jigsaw_trans(langs=['tr','it','es','ru','fr','pt'],\n",
        "                      columns=['comment_text', 'toxic']):\n",
        "    train_6langs=[]\n",
        "    for i in range(len(langs)):\n",
        "        fn = D_TRANS+'jigsaw-toxic-comment-train-google-%s-cleaned.csv'%langs[i]\n",
        "        train_6langs.append(downsample(pd.read_csv(fn)[columns]))\n",
        "\n",
        "    return train_6langs\n",
        "\n",
        "def downsample(df):\n",
        "    \"\"\"Subsample the train dataframe to 50%-50%\"\"\"\n",
        "    ds_df= df.sample(frac=0.5, random_state=42)\n",
        "\n",
        "    return ds_df\n",
        "\n",
        "en_train = pd.read_csv(D+'jigsaw-toxic-comment-train.csv')[['comment_text', 'toxic']]\n",
        "train = pd.concat(load_jigsaw_trans() + [en_train])\n",
        "validation = pd.read_csv(D+'validation.csv')\n",
        "test = pd.read_csv(D+'test.csv')\n"
      ],
      "metadata": {
        "execution": {
          "iopub.status.busy": "2023-03-06T12:38:26.007488Z",
          "iopub.execute_input": "2023-03-06T12:38:26.00787Z",
          "iopub.status.idle": "2023-03-06T12:38:29.738011Z",
          "shell.execute_reply.started": "2023-03-06T12:38:26.007831Z",
          "shell.execute_reply": "2023-03-06T12:38:29.736549Z"
        },
        "trusted": true,
        "id": "jyxuZl5xS1Ie"
      },
      "execution_count": null,
      "outputs": []
    },
    {
      "cell_type": "code",
      "source": [
        "train.head()"
      ],
      "metadata": {
        "execution": {
          "iopub.status.busy": "2023-03-06T12:38:32.954381Z",
          "iopub.execute_input": "2023-03-06T12:38:32.954745Z",
          "iopub.status.idle": "2023-03-06T12:38:32.986735Z",
          "shell.execute_reply.started": "2023-03-06T12:38:32.954711Z",
          "shell.execute_reply": "2023-03-06T12:38:32.98536Z"
        },
        "trusted": true,
        "id": "9R9mc_j3S1If"
      },
      "execution_count": null,
      "outputs": []
    },
    {
      "cell_type": "code",
      "source": [
        "test.head()"
      ],
      "metadata": {
        "execution": {
          "iopub.status.busy": "2023-03-06T12:38:35.33519Z",
          "iopub.execute_input": "2023-03-06T12:38:35.335587Z",
          "iopub.status.idle": "2023-03-06T12:38:35.348314Z",
          "shell.execute_reply.started": "2023-03-06T12:38:35.335555Z",
          "shell.execute_reply": "2023-03-06T12:38:35.346621Z"
        },
        "trusted": true,
        "id": "xab1Jek-S1If"
      },
      "execution_count": null,
      "outputs": []
    },
    {
      "cell_type": "code",
      "source": [
        "train['comment_text'].apply(lambda x:len(str(x).split())).max()"
      ],
      "metadata": {
        "execution": {
          "iopub.status.busy": "2023-03-06T12:38:39.629461Z",
          "iopub.execute_input": "2023-03-06T12:38:39.629848Z",
          "iopub.status.idle": "2023-03-06T12:38:39.699925Z",
          "shell.execute_reply.started": "2023-03-06T12:38:39.629812Z",
          "shell.execute_reply": "2023-03-06T12:38:39.697869Z"
        },
        "trusted": true,
        "id": "nOyYyIVpS1If"
      },
      "execution_count": null,
      "outputs": []
    },
    {
      "cell_type": "code",
      "source": [
        "import sklearn.metrics as metrics\n",
        "def roc_auc(predictions,target):\n",
        "    fpr, tpr, thresholds = metrics.roc_curve(target, predictions)\n",
        "    roc_auc = metrics.auc(fpr, tpr)\n",
        "    return roc_auc"
      ],
      "metadata": {
        "execution": {
          "iopub.status.busy": "2023-03-06T12:44:53.440262Z",
          "iopub.execute_input": "2023-03-06T12:44:53.440682Z",
          "iopub.status.idle": "2023-03-06T12:44:53.447254Z",
          "shell.execute_reply.started": "2023-03-06T12:44:53.440644Z",
          "shell.execute_reply": "2023-03-06T12:44:53.44567Z"
        },
        "trusted": true,
        "id": "qrlJH7waS1Ig"
      },
      "execution_count": null,
      "outputs": []
    },
    {
      "cell_type": "code",
      "source": [
        "\n",
        "xtrain, ytrain = train.comment_text.values, train.toxic.values\n",
        "xvalid, yvalid = validation.comment_text.values, validation.toxic.values\n"
      ],
      "metadata": {
        "execution": {
          "iopub.status.busy": "2023-03-06T12:38:43.691135Z",
          "iopub.execute_input": "2023-03-06T12:38:43.691578Z",
          "iopub.status.idle": "2023-03-06T12:38:43.706025Z",
          "shell.execute_reply.started": "2023-03-06T12:38:43.691542Z",
          "shell.execute_reply": "2023-03-06T12:38:43.703714Z"
        },
        "trusted": true,
        "id": "tIxV6kezS1Ih"
      },
      "execution_count": null,
      "outputs": []
    },
    {
      "cell_type": "code",
      "source": [
        "print(xtrain[0])\n",
        "print(ytrain[0])"
      ],
      "metadata": {
        "execution": {
          "iopub.status.busy": "2023-03-06T12:38:46.293196Z",
          "iopub.execute_input": "2023-03-06T12:38:46.29462Z",
          "iopub.status.idle": "2023-03-06T12:38:46.300272Z",
          "shell.execute_reply.started": "2023-03-06T12:38:46.294579Z",
          "shell.execute_reply": "2023-03-06T12:38:46.298737Z"
        },
        "trusted": true,
        "id": "-ja9C3ySS1Ih"
      },
      "execution_count": null,
      "outputs": []
    },
    {
      "cell_type": "code",
      "source": [
        "\n",
        "#defining our tokenizer\n",
        "token=text.Tokenizer(num_words=None)\n",
        "\n",
        "max_len=1500\n",
        "\n",
        "#required to fit on text before using texts to sequences\n",
        "token.fit_on_texts(list(xtrain) + list(xvalid))\n",
        "\n",
        "xtrain_seq = token.texts_to_sequences(xtrain)\n",
        "xvalid_seq = token.texts_to_sequences(xvalid)\n",
        "\n",
        "#zero pad the sequences\n",
        "xtrain_pad = sequence.pad_sequences(xtrain_seq, maxlen=max_len)\n",
        "xvalid_pad = sequence.pad_sequences(xvalid_seq, maxlen=max_len)\n",
        "\n",
        "word_index = token.word_index"
      ],
      "metadata": {
        "execution": {
          "iopub.status.busy": "2023-03-06T12:38:49.540141Z",
          "iopub.execute_input": "2023-03-06T12:38:49.540579Z",
          "iopub.status.idle": "2023-03-06T12:38:51.184066Z",
          "shell.execute_reply.started": "2023-03-06T12:38:49.540542Z",
          "shell.execute_reply": "2023-03-06T12:38:51.182404Z"
        },
        "trusted": true,
        "id": "pLuBQKlfS1Ii"
      },
      "execution_count": null,
      "outputs": []
    },
    {
      "cell_type": "code",
      "source": [
        "len(word_index)"
      ],
      "metadata": {
        "execution": {
          "iopub.status.busy": "2023-03-06T12:38:54.538759Z",
          "iopub.execute_input": "2023-03-06T12:38:54.539705Z",
          "iopub.status.idle": "2023-03-06T12:38:54.545981Z",
          "shell.execute_reply.started": "2023-03-06T12:38:54.539659Z",
          "shell.execute_reply": "2023-03-06T12:38:54.544749Z"
        },
        "trusted": true,
        "id": "kADmo0sYS1Ii"
      },
      "execution_count": null,
      "outputs": []
    },
    {
      "cell_type": "code",
      "source": [
        "with strategy.scope():\n",
        "  model = tf.keras.Sequential([\n",
        "      Embedding(len(word_index) + 1,100,input_length=max_len),\n",
        "      SimpleRNN(100),\n",
        "      Dense(1, activation='sigmoid')\n",
        "  ])\n",
        "\n",
        "  model.compile(loss='binary_crossentropy', optimizer='adam', metrics=['accuracy'])\n",
        "\n",
        "model.summary()"
      ],
      "metadata": {
        "execution": {
          "iopub.status.busy": "2023-03-06T12:38:56.641642Z",
          "iopub.execute_input": "2023-03-06T12:38:56.64234Z",
          "iopub.status.idle": "2023-03-06T12:38:56.830604Z",
          "shell.execute_reply.started": "2023-03-06T12:38:56.642275Z",
          "shell.execute_reply": "2023-03-06T12:38:56.828929Z"
        },
        "trusted": true,
        "id": "uRXXIttXS1Ij"
      },
      "execution_count": null,
      "outputs": []
    },
    {
      "cell_type": "code",
      "source": [
        "model.fit(xtrain_pad,ytrain,epochs=2)"
      ],
      "metadata": {
        "execution": {
          "iopub.status.busy": "2023-03-06T12:38:59.954033Z",
          "iopub.execute_input": "2023-03-06T12:38:59.955589Z",
          "iopub.status.idle": "2023-03-06T12:43:51.581883Z",
          "shell.execute_reply.started": "2023-03-06T12:38:59.955516Z",
          "shell.execute_reply": "2023-03-06T12:43:51.580768Z"
        },
        "trusted": true,
        "id": "vhltEL8PS1Ij"
      },
      "execution_count": null,
      "outputs": []
    },
    {
      "cell_type": "code",
      "source": [
        "scores = model.predict(xvalid_pad)\n",
        "print(\"Auc: %.2f%%\" % (roc_auc(scores,yvalid)))"
      ],
      "metadata": {
        "execution": {
          "iopub.status.busy": "2023-03-06T12:44:57.922353Z",
          "iopub.execute_input": "2023-03-06T12:44:57.923305Z",
          "iopub.status.idle": "2023-03-06T12:45:02.024707Z",
          "shell.execute_reply.started": "2023-03-06T12:44:57.923174Z",
          "shell.execute_reply": "2023-03-06T12:45:02.023055Z"
        },
        "trusted": true,
        "id": "WFhEz0rBS1Ij"
      },
      "execution_count": null,
      "outputs": []
    }
  ]
}